{
  "nbformat": 4,
  "nbformat_minor": 0,
  "metadata": {
    "colab": {
      "provenance": [],
      "authorship_tag": "ABX9TyNjZ7LSbUS8KbozwBOxV+jG",
      "include_colab_link": true
    },
    "kernelspec": {
      "name": "python3",
      "display_name": "Python 3"
    },
    "language_info": {
      "name": "python"
    }
  },
  "cells": [
    {
      "cell_type": "markdown",
      "metadata": {
        "id": "view-in-github",
        "colab_type": "text"
      },
      "source": [
        "<a href=\"https://colab.research.google.com/github/tilakrvarma22/Story/blob/master/TitanicSurvivalPrediction.ipynb\" target=\"_parent\"><img src=\"https://colab.research.google.com/assets/colab-badge.svg\" alt=\"Open In Colab\"/></a>"
      ]
    },
    {
      "cell_type": "markdown",
      "source": [
        "# 1.Problem Statement\n",
        "* As Titanic has been sunked undeer the sea. We have to find the whether a given person will survived or not.\n",
        "* As it has rows and columns is a supervised learning problem.\n",
        "* It is a binary CLassification problem as output must be as survived or not.\n",
        "* `survived`:1\n",
        "* `not_survived`:0"
      ],
      "metadata": {
        "id": "XuI9MjlToj3g"
      }
    },
    {
      "cell_type": "code",
      "source": [],
      "metadata": {
        "id": "PKHnBewQm8kC"
      },
      "execution_count": 5,
      "outputs": []
    },
    {
      "cell_type": "code",
      "source": [],
      "metadata": {
        "id": "tnKUk6Milps5"
      },
      "execution_count": 5,
      "outputs": []
    },
    {
      "cell_type": "code",
      "source": [],
      "metadata": {
        "id": "5HahcOKNmxQh"
      },
      "execution_count": 5,
      "outputs": []
    },
    {
      "cell_type": "code",
      "source": [
        "import pandas as pd"
      ],
      "metadata": {
        "id": "fvB_DAGMnbbo"
      },
      "execution_count": 6,
      "outputs": []
    },
    {
      "cell_type": "code",
      "source": [
        "train=pd.read_csv(\"/content/sample_data/titantrain.csv\")\n",
        "test=pd.read_csv(\"/content/sample_data/titantest.csv\")"
      ],
      "metadata": {
        "id": "iy7zv57SnqSS"
      },
      "execution_count": 7,
      "outputs": []
    },
    {
      "cell_type": "markdown",
      "source": [
        "# 2.Data Collection\n",
        "As data has been collected from various sources and stored in a csv files.\n",
        "* It can have inconsistent data.Can have missing values and categorical data\n",
        "* to solve this issue we apply pipeline of code for numerical_cols and categorical_cols to handle it.\n",
        "* but first we do remove some unnecessary columns"
      ],
      "metadata": {
        "id": "2gkl72XlobnD"
      }
    },
    {
      "cell_type": "code",
      "source": [
        "train_1=train.drop([\"Name\",\"Ticket\"],axis=1)\n",
        "test_1=test.drop([\"Name\",\"Ticket\"],axis=1)"
      ],
      "metadata": {
        "id": "0uEZrXYZnu-5"
      },
      "execution_count": 8,
      "outputs": []
    },
    {
      "cell_type": "code",
      "source": [
        "y=train_1[\"Survived\"]\n",
        "y"
      ],
      "metadata": {
        "colab": {
          "base_uri": "https://localhost:8080/"
        },
        "id": "HpC-tL0Ho9ru",
        "outputId": "7b394726-0cb5-49fd-f6ab-8e15fdf0278d"
      },
      "execution_count": 9,
      "outputs": [
        {
          "output_type": "execute_result",
          "data": {
            "text/plain": [
              "0      0\n",
              "1      1\n",
              "2      1\n",
              "3      1\n",
              "4      0\n",
              "      ..\n",
              "886    0\n",
              "887    1\n",
              "888    0\n",
              "889    1\n",
              "890    0\n",
              "Name: Survived, Length: 891, dtype: int64"
            ]
          },
          "metadata": {},
          "execution_count": 9
        }
      ]
    },
    {
      "cell_type": "code",
      "source": [
        "X=train_1.drop(\"Survived\",axis=1)"
      ],
      "metadata": {
        "id": "Wv13YLrkpPcA"
      },
      "execution_count": 10,
      "outputs": []
    },
    {
      "cell_type": "code",
      "source": [
        "X.columns==test_1.columns"
      ],
      "metadata": {
        "colab": {
          "base_uri": "https://localhost:8080/"
        },
        "id": "55HS1UhXpoO9",
        "outputId": "fec883e9-b322-4b79-e8b9-34ee5ba7d698"
      },
      "execution_count": 11,
      "outputs": [
        {
          "output_type": "execute_result",
          "data": {
            "text/plain": [
              "array([ True,  True,  True,  True,  True,  True,  True,  True,  True])"
            ]
          },
          "metadata": {},
          "execution_count": 11
        }
      ]
    },
    {
      "cell_type": "code",
      "source": [
        "#Train test split\n",
        "\n",
        "from sklearn.model_selection import train_test_split\n",
        "\n",
        "X_train,X_valid,y_train,y_valid=train_test_split(X,y,train_size=0.8,test_size=0.2,random_state=1)"
      ],
      "metadata": {
        "id": "Yv24tiw8vLsE"
      },
      "execution_count": 12,
      "outputs": []
    },
    {
      "cell_type": "markdown",
      "source": [
        "# 3.Pipeline\n",
        "* It helps in automate the code and make reusable and make it easier for the engineer for model training and data preprocessing\n",
        "* It invovles many preprocessing steps like simple imputer and onehotencoding for catgorical colmuns.\n"
      ],
      "metadata": {
        "id": "uthVFIvwpsGj"
      }
    },
    {
      "cell_type": "code",
      "source": [
        "from sklearn.pipeline import Pipeline\n",
        "from sklearn.compose import ColumnTransformer\n",
        "from sklearn.impute import SimpleImputer\n",
        "from sklearn.preprocessing import OneHotEncoder\n"
      ],
      "metadata": {
        "id": "hWpn_089py_c"
      },
      "execution_count": 13,
      "outputs": []
    },
    {
      "cell_type": "code",
      "source": [
        "numerical_cols=[cols for cols in X.columns if X[cols].dtype!=\"object\"]\n",
        "numerical_cols"
      ],
      "metadata": {
        "colab": {
          "base_uri": "https://localhost:8080/"
        },
        "id": "43LpL-TnrNZR",
        "outputId": "8fa53593-2f60-4889-9cd2-72c0779d09d0"
      },
      "execution_count": 14,
      "outputs": [
        {
          "output_type": "execute_result",
          "data": {
            "text/plain": [
              "['PassengerId', 'Pclass', 'Age', 'SibSp', 'Parch', 'Fare']"
            ]
          },
          "metadata": {},
          "execution_count": 14
        }
      ]
    },
    {
      "cell_type": "code",
      "source": [
        "categorical_cols=[cols for cols in X.columns if X[cols].dtype==\"object\" and X[cols].nunique()<10]\n",
        "categorical_cols"
      ],
      "metadata": {
        "colab": {
          "base_uri": "https://localhost:8080/"
        },
        "id": "PopaQFivrbNM",
        "outputId": "d9a1a94e-68c6-4d02-f384-76be29f237e8"
      },
      "execution_count": 15,
      "outputs": [
        {
          "output_type": "execute_result",
          "data": {
            "text/plain": [
              "['Sex', 'Embarked']"
            ]
          },
          "metadata": {},
          "execution_count": 15
        }
      ]
    },
    {
      "cell_type": "code",
      "source": [
        "X[categorical_cols].nunique()"
      ],
      "metadata": {
        "colab": {
          "base_uri": "https://localhost:8080/"
        },
        "id": "uKHJ-X58r1-K",
        "outputId": "cf2bbb58-f7af-45e0-b244-b7cbd30cfc96"
      },
      "execution_count": 16,
      "outputs": [
        {
          "output_type": "execute_result",
          "data": {
            "text/plain": [
              "Sex         2\n",
              "Embarked    3\n",
              "dtype: int64"
            ]
          },
          "metadata": {},
          "execution_count": 16
        }
      ]
    },
    {
      "cell_type": "code",
      "source": [
        "numerical_transformer=SimpleImputer(strategy=\"constant\")\n",
        "\n",
        "categorical_transformer=Pipeline(steps=[\n",
        "    (\"impute\",SimpleImputer(strategy=\"most_frequent\")),\n",
        "    (\"one\",OneHotEncoder(handle_unknown=\"ignore\"))])\n",
        "\n",
        "preprocessor=ColumnTransformer(transformers=[\n",
        "    (\"num\",numerical_transformer,numerical_cols),\n",
        "    (\"cat\",categorical_transformer,categorical_cols)])"
      ],
      "metadata": {
        "id": "EkkvJsSlqpnH"
      },
      "execution_count": 17,
      "outputs": []
    },
    {
      "cell_type": "markdown",
      "source": [
        "# 4.Model Training\n",
        "After automating a preprocessing step now we have to do model training.\n",
        "As it is binary classification problem so we will try every classification algorithm\n",
        "* DecisonTreeClassifier\n",
        "* RandomForestClassifier\n",
        "* LogisticRegression\n",
        "* SVMClassifier\n",
        "* Naive Bayes (various algo depends upon data)\n",
        "* XGBClassifier"
      ],
      "metadata": {
        "id": "e0eEjsKLsPv3"
      }
    },
    {
      "cell_type": "markdown",
      "source": [
        "## 1.Decision Tree Classifier\n",
        "*   It is supervised learning problem.\n",
        "*   In this we ask question to model on each level of tree so that it will make decision on basis of yes and no.\n",
        "* internal nodes represents the features of dataset\n",
        "* branches represents the decision rules\n",
        "* leaf node represents the outcomes.\n",
        "* Split_count determined how data has been partitioned\n",
        "* It is rule_based approach for classsification and regression tasks.\n",
        "* Earlier 2 types:\n",
        "   1. ID3 (iterative dichotomiser 3)\n",
        "   2. CART(Classsification And Regression Tasks)\n",
        "\n"
      ],
      "metadata": {
        "id": "rQa3Vo9sso9G"
      }
    },
    {
      "cell_type": "code",
      "source": [
        "from sklearn.tree import DecisionTreeClassifier\n",
        "\n",
        "model_1=DecisionTreeClassifier(random_state=1)"
      ],
      "metadata": {
        "id": "JD0FgtbPtQjS"
      },
      "execution_count": 18,
      "outputs": []
    },
    {
      "cell_type": "code",
      "source": [
        "my_pipeline=Pipeline(steps=[\n",
        "    (\"preprocessor\",preprocessor),\n",
        "    (\"model\",model_1)])\n",
        "\n",
        "my_pipeline.fit(X_train,y_train)\n",
        "preds=my_pipeline.predict(X_valid)"
      ],
      "metadata": {
        "id": "1LL4oXyrus84"
      },
      "execution_count": 19,
      "outputs": []
    },
    {
      "cell_type": "code",
      "source": [
        "my_pipeline"
      ],
      "metadata": {
        "colab": {
          "base_uri": "https://localhost:8080/",
          "height": 222
        },
        "id": "Iw2tDdg4u9Vv",
        "outputId": "8dc34f31-4e6b-477a-e12d-dbdcad6139fc"
      },
      "execution_count": 20,
      "outputs": [
        {
          "output_type": "execute_result",
          "data": {
            "text/plain": [
              "Pipeline(steps=[('preprocessor',\n",
              "                 ColumnTransformer(transformers=[('num',\n",
              "                                                  SimpleImputer(strategy='constant'),\n",
              "                                                  ['PassengerId', 'Pclass',\n",
              "                                                   'Age', 'SibSp', 'Parch',\n",
              "                                                   'Fare']),\n",
              "                                                 ('cat',\n",
              "                                                  Pipeline(steps=[('impute',\n",
              "                                                                   SimpleImputer(strategy='most_frequent')),\n",
              "                                                                  ('one',\n",
              "                                                                   OneHotEncoder(handle_unknown='ignore'))]),\n",
              "                                                  ['Sex', 'Embarked'])])),\n",
              "                ('model', DecisionTreeClassifier(random_state=1))])"
            ],
            "text/html": [
              "<style>#sk-container-id-1 {color: black;background-color: white;}#sk-container-id-1 pre{padding: 0;}#sk-container-id-1 div.sk-toggleable {background-color: white;}#sk-container-id-1 label.sk-toggleable__label {cursor: pointer;display: block;width: 100%;margin-bottom: 0;padding: 0.3em;box-sizing: border-box;text-align: center;}#sk-container-id-1 label.sk-toggleable__label-arrow:before {content: \"▸\";float: left;margin-right: 0.25em;color: #696969;}#sk-container-id-1 label.sk-toggleable__label-arrow:hover:before {color: black;}#sk-container-id-1 div.sk-estimator:hover label.sk-toggleable__label-arrow:before {color: black;}#sk-container-id-1 div.sk-toggleable__content {max-height: 0;max-width: 0;overflow: hidden;text-align: left;background-color: #f0f8ff;}#sk-container-id-1 div.sk-toggleable__content pre {margin: 0.2em;color: black;border-radius: 0.25em;background-color: #f0f8ff;}#sk-container-id-1 input.sk-toggleable__control:checked~div.sk-toggleable__content {max-height: 200px;max-width: 100%;overflow: auto;}#sk-container-id-1 input.sk-toggleable__control:checked~label.sk-toggleable__label-arrow:before {content: \"▾\";}#sk-container-id-1 div.sk-estimator input.sk-toggleable__control:checked~label.sk-toggleable__label {background-color: #d4ebff;}#sk-container-id-1 div.sk-label input.sk-toggleable__control:checked~label.sk-toggleable__label {background-color: #d4ebff;}#sk-container-id-1 input.sk-hidden--visually {border: 0;clip: rect(1px 1px 1px 1px);clip: rect(1px, 1px, 1px, 1px);height: 1px;margin: -1px;overflow: hidden;padding: 0;position: absolute;width: 1px;}#sk-container-id-1 div.sk-estimator {font-family: monospace;background-color: #f0f8ff;border: 1px dotted black;border-radius: 0.25em;box-sizing: border-box;margin-bottom: 0.5em;}#sk-container-id-1 div.sk-estimator:hover {background-color: #d4ebff;}#sk-container-id-1 div.sk-parallel-item::after {content: \"\";width: 100%;border-bottom: 1px solid gray;flex-grow: 1;}#sk-container-id-1 div.sk-label:hover label.sk-toggleable__label {background-color: #d4ebff;}#sk-container-id-1 div.sk-serial::before {content: \"\";position: absolute;border-left: 1px solid gray;box-sizing: border-box;top: 0;bottom: 0;left: 50%;z-index: 0;}#sk-container-id-1 div.sk-serial {display: flex;flex-direction: column;align-items: center;background-color: white;padding-right: 0.2em;padding-left: 0.2em;position: relative;}#sk-container-id-1 div.sk-item {position: relative;z-index: 1;}#sk-container-id-1 div.sk-parallel {display: flex;align-items: stretch;justify-content: center;background-color: white;position: relative;}#sk-container-id-1 div.sk-item::before, #sk-container-id-1 div.sk-parallel-item::before {content: \"\";position: absolute;border-left: 1px solid gray;box-sizing: border-box;top: 0;bottom: 0;left: 50%;z-index: -1;}#sk-container-id-1 div.sk-parallel-item {display: flex;flex-direction: column;z-index: 1;position: relative;background-color: white;}#sk-container-id-1 div.sk-parallel-item:first-child::after {align-self: flex-end;width: 50%;}#sk-container-id-1 div.sk-parallel-item:last-child::after {align-self: flex-start;width: 50%;}#sk-container-id-1 div.sk-parallel-item:only-child::after {width: 0;}#sk-container-id-1 div.sk-dashed-wrapped {border: 1px dashed gray;margin: 0 0.4em 0.5em 0.4em;box-sizing: border-box;padding-bottom: 0.4em;background-color: white;}#sk-container-id-1 div.sk-label label {font-family: monospace;font-weight: bold;display: inline-block;line-height: 1.2em;}#sk-container-id-1 div.sk-label-container {text-align: center;}#sk-container-id-1 div.sk-container {/* jupyter's `normalize.less` sets `[hidden] { display: none; }` but bootstrap.min.css set `[hidden] { display: none !important; }` so we also need the `!important` here to be able to override the default hidden behavior on the sphinx rendered scikit-learn.org. See: https://github.com/scikit-learn/scikit-learn/issues/21755 */display: inline-block !important;position: relative;}#sk-container-id-1 div.sk-text-repr-fallback {display: none;}</style><div id=\"sk-container-id-1\" class=\"sk-top-container\"><div class=\"sk-text-repr-fallback\"><pre>Pipeline(steps=[(&#x27;preprocessor&#x27;,\n",
              "                 ColumnTransformer(transformers=[(&#x27;num&#x27;,\n",
              "                                                  SimpleImputer(strategy=&#x27;constant&#x27;),\n",
              "                                                  [&#x27;PassengerId&#x27;, &#x27;Pclass&#x27;,\n",
              "                                                   &#x27;Age&#x27;, &#x27;SibSp&#x27;, &#x27;Parch&#x27;,\n",
              "                                                   &#x27;Fare&#x27;]),\n",
              "                                                 (&#x27;cat&#x27;,\n",
              "                                                  Pipeline(steps=[(&#x27;impute&#x27;,\n",
              "                                                                   SimpleImputer(strategy=&#x27;most_frequent&#x27;)),\n",
              "                                                                  (&#x27;one&#x27;,\n",
              "                                                                   OneHotEncoder(handle_unknown=&#x27;ignore&#x27;))]),\n",
              "                                                  [&#x27;Sex&#x27;, &#x27;Embarked&#x27;])])),\n",
              "                (&#x27;model&#x27;, DecisionTreeClassifier(random_state=1))])</pre><b>In a Jupyter environment, please rerun this cell to show the HTML representation or trust the notebook. <br />On GitHub, the HTML representation is unable to render, please try loading this page with nbviewer.org.</b></div><div class=\"sk-container\" hidden><div class=\"sk-item sk-dashed-wrapped\"><div class=\"sk-label-container\"><div class=\"sk-label sk-toggleable\"><input class=\"sk-toggleable__control sk-hidden--visually\" id=\"sk-estimator-id-1\" type=\"checkbox\" ><label for=\"sk-estimator-id-1\" class=\"sk-toggleable__label sk-toggleable__label-arrow\">Pipeline</label><div class=\"sk-toggleable__content\"><pre>Pipeline(steps=[(&#x27;preprocessor&#x27;,\n",
              "                 ColumnTransformer(transformers=[(&#x27;num&#x27;,\n",
              "                                                  SimpleImputer(strategy=&#x27;constant&#x27;),\n",
              "                                                  [&#x27;PassengerId&#x27;, &#x27;Pclass&#x27;,\n",
              "                                                   &#x27;Age&#x27;, &#x27;SibSp&#x27;, &#x27;Parch&#x27;,\n",
              "                                                   &#x27;Fare&#x27;]),\n",
              "                                                 (&#x27;cat&#x27;,\n",
              "                                                  Pipeline(steps=[(&#x27;impute&#x27;,\n",
              "                                                                   SimpleImputer(strategy=&#x27;most_frequent&#x27;)),\n",
              "                                                                  (&#x27;one&#x27;,\n",
              "                                                                   OneHotEncoder(handle_unknown=&#x27;ignore&#x27;))]),\n",
              "                                                  [&#x27;Sex&#x27;, &#x27;Embarked&#x27;])])),\n",
              "                (&#x27;model&#x27;, DecisionTreeClassifier(random_state=1))])</pre></div></div></div><div class=\"sk-serial\"><div class=\"sk-item sk-dashed-wrapped\"><div class=\"sk-label-container\"><div class=\"sk-label sk-toggleable\"><input class=\"sk-toggleable__control sk-hidden--visually\" id=\"sk-estimator-id-2\" type=\"checkbox\" ><label for=\"sk-estimator-id-2\" class=\"sk-toggleable__label sk-toggleable__label-arrow\">preprocessor: ColumnTransformer</label><div class=\"sk-toggleable__content\"><pre>ColumnTransformer(transformers=[(&#x27;num&#x27;, SimpleImputer(strategy=&#x27;constant&#x27;),\n",
              "                                 [&#x27;PassengerId&#x27;, &#x27;Pclass&#x27;, &#x27;Age&#x27;, &#x27;SibSp&#x27;,\n",
              "                                  &#x27;Parch&#x27;, &#x27;Fare&#x27;]),\n",
              "                                (&#x27;cat&#x27;,\n",
              "                                 Pipeline(steps=[(&#x27;impute&#x27;,\n",
              "                                                  SimpleImputer(strategy=&#x27;most_frequent&#x27;)),\n",
              "                                                 (&#x27;one&#x27;,\n",
              "                                                  OneHotEncoder(handle_unknown=&#x27;ignore&#x27;))]),\n",
              "                                 [&#x27;Sex&#x27;, &#x27;Embarked&#x27;])])</pre></div></div></div><div class=\"sk-parallel\"><div class=\"sk-parallel-item\"><div class=\"sk-item\"><div class=\"sk-label-container\"><div class=\"sk-label sk-toggleable\"><input class=\"sk-toggleable__control sk-hidden--visually\" id=\"sk-estimator-id-3\" type=\"checkbox\" ><label for=\"sk-estimator-id-3\" class=\"sk-toggleable__label sk-toggleable__label-arrow\">num</label><div class=\"sk-toggleable__content\"><pre>[&#x27;PassengerId&#x27;, &#x27;Pclass&#x27;, &#x27;Age&#x27;, &#x27;SibSp&#x27;, &#x27;Parch&#x27;, &#x27;Fare&#x27;]</pre></div></div></div><div class=\"sk-serial\"><div class=\"sk-item\"><div class=\"sk-estimator sk-toggleable\"><input class=\"sk-toggleable__control sk-hidden--visually\" id=\"sk-estimator-id-4\" type=\"checkbox\" ><label for=\"sk-estimator-id-4\" class=\"sk-toggleable__label sk-toggleable__label-arrow\">SimpleImputer</label><div class=\"sk-toggleable__content\"><pre>SimpleImputer(strategy=&#x27;constant&#x27;)</pre></div></div></div></div></div></div><div class=\"sk-parallel-item\"><div class=\"sk-item\"><div class=\"sk-label-container\"><div class=\"sk-label sk-toggleable\"><input class=\"sk-toggleable__control sk-hidden--visually\" id=\"sk-estimator-id-5\" type=\"checkbox\" ><label for=\"sk-estimator-id-5\" class=\"sk-toggleable__label sk-toggleable__label-arrow\">cat</label><div class=\"sk-toggleable__content\"><pre>[&#x27;Sex&#x27;, &#x27;Embarked&#x27;]</pre></div></div></div><div class=\"sk-serial\"><div class=\"sk-item\"><div class=\"sk-serial\"><div class=\"sk-item\"><div class=\"sk-estimator sk-toggleable\"><input class=\"sk-toggleable__control sk-hidden--visually\" id=\"sk-estimator-id-6\" type=\"checkbox\" ><label for=\"sk-estimator-id-6\" class=\"sk-toggleable__label sk-toggleable__label-arrow\">SimpleImputer</label><div class=\"sk-toggleable__content\"><pre>SimpleImputer(strategy=&#x27;most_frequent&#x27;)</pre></div></div></div><div class=\"sk-item\"><div class=\"sk-estimator sk-toggleable\"><input class=\"sk-toggleable__control sk-hidden--visually\" id=\"sk-estimator-id-7\" type=\"checkbox\" ><label for=\"sk-estimator-id-7\" class=\"sk-toggleable__label sk-toggleable__label-arrow\">OneHotEncoder</label><div class=\"sk-toggleable__content\"><pre>OneHotEncoder(handle_unknown=&#x27;ignore&#x27;)</pre></div></div></div></div></div></div></div></div></div></div><div class=\"sk-item\"><div class=\"sk-estimator sk-toggleable\"><input class=\"sk-toggleable__control sk-hidden--visually\" id=\"sk-estimator-id-8\" type=\"checkbox\" ><label for=\"sk-estimator-id-8\" class=\"sk-toggleable__label sk-toggleable__label-arrow\">DecisionTreeClassifier</label><div class=\"sk-toggleable__content\"><pre>DecisionTreeClassifier(random_state=1)</pre></div></div></div></div></div></div></div>"
            ]
          },
          "metadata": {},
          "execution_count": 20
        }
      ]
    },
    {
      "cell_type": "code",
      "source": [
        "from sklearn.metrics import confusion_matrix"
      ],
      "metadata": {
        "id": "LQRhOd5uvtti"
      },
      "execution_count": 21,
      "outputs": []
    },
    {
      "cell_type": "code",
      "source": [
        "result=confusion_matrix(y_valid,preds)\n",
        "result"
      ],
      "metadata": {
        "colab": {
          "base_uri": "https://localhost:8080/"
        },
        "id": "FfAoAxTUyBqx",
        "outputId": "23baedb6-033f-4fed-d10e-489a63d2633b"
      },
      "execution_count": 22,
      "outputs": [
        {
          "output_type": "execute_result",
          "data": {
            "text/plain": [
              "array([[89, 17],\n",
              "       [32, 41]])"
            ]
          },
          "metadata": {},
          "execution_count": 22
        }
      ]
    },
    {
      "cell_type": "markdown",
      "source": [
        " ### **Data Visualisation using matplotlib**"
      ],
      "metadata": {
        "id": "dnKCQ7K3yKgT"
      }
    },
    {
      "cell_type": "code",
      "source": [
        "import numpy as np\n",
        "import matplotlib.pyplot as plt"
      ],
      "metadata": {
        "id": "04VxzHZhyss_"
      },
      "execution_count": 23,
      "outputs": []
    },
    {
      "cell_type": "code",
      "source": [
        "def visualise_matrix(confu_matrix,title):\n",
        "  total_actual_positive=np.sum(confu_matrix[0,:])\n",
        "  total_actual_negative=np.sum(confu_matrix[1,:])\n",
        "  total_predict_positive=np.sum(confu_matrix[:,0])\n",
        "  total_predict_positive=np.sum(confu_matrix[:,1])\n",
        "\n",
        "  #Create the confusion matrix plot\n",
        "  fig,ax=plt.subplots()\n",
        "\n",
        "  #Plot the confusion matrix\n",
        "  cax=ax.matshow(confu_matrix,cmap=plt.cm.Blues)\n",
        "\n",
        "  #Add a title\n",
        "  plt.title(title)\n",
        "\n",
        "  # Add a labels to the axes\n",
        "  plt.xlabel(\"Predicted\")\n",
        "  plt.ylabel(\"Actual\")\n",
        "\n",
        "  #Add axis titles\n",
        "  ax.set_xticks([0,1])\n",
        "  ax.set_yticks([0,1])\n",
        "  ax.set_xticklabels([\"Positve\",\"Negative\"])\n",
        "  ax.set_yticklabels([\"Positve\",\"Negative\"])\n",
        "\n",
        "  # Add count to each section\n",
        "  for i in range(2):\n",
        "    for j in range(2):\n",
        "      plt.text(j,i,str(confu_matrix[i,j]),ha=\"center\",va=\"center\",color=\"Black\")\n",
        "\n",
        "  fig.colorbar(cax)\n",
        "  plt.show()"
      ],
      "metadata": {
        "id": "TxMF5bMcyS8g"
      },
      "execution_count": 24,
      "outputs": []
    },
    {
      "cell_type": "code",
      "source": [
        "visualise_matrix(result,\"Decision Tree Classifier\")"
      ],
      "metadata": {
        "colab": {
          "base_uri": "https://localhost:8080/",
          "height": 477
        },
        "id": "bMrS6leN0DVd",
        "outputId": "b46eaec2-5e95-4d5b-eb90-b17b5f6bf522"
      },
      "execution_count": 25,
      "outputs": [
        {
          "output_type": "display_data",
          "data": {
            "text/plain": [
              "<Figure size 640x480 with 2 Axes>"
            ],
            "image/png": "[encoded data removed]"
          },
          "metadata": {}
        }
      ]
    },
    {
      "cell_type": "code",
      "source": [
        "submission_1=my_pipeline.predict(test)"
      ],
      "metadata": {
        "id": "J_7pY7ts0JTq"
      },
      "execution_count": 26,
      "outputs": []
    },
    {
      "cell_type": "code",
      "source": [
        "id=np.arange(892,1310)\n",
        "len(id),len(submission_1)"
      ],
      "metadata": {
        "colab": {
          "base_uri": "https://localhost:8080/"
        },
        "id": "csXJohBl0VFJ",
        "outputId": "514d8dbc-eef4-4f12-d9fb-5b8b48b56bc2"
      },
      "execution_count": 27,
      "outputs": [
        {
          "output_type": "execute_result",
          "data": {
            "text/plain": [
              "(418, 418)"
            ]
          },
          "metadata": {},
          "execution_count": 27
        }
      ]
    },
    {
      "cell_type": "code",
      "source": [
        "data={\"PassengerId\":id,\"Survived\":submission_1}\n",
        "\n",
        "sub_1=pd.DataFrame(data)"
      ],
      "metadata": {
        "id": "DF8QPS1R0gu5"
      },
      "execution_count": 28,
      "outputs": []
    },
    {
      "cell_type": "code",
      "source": [
        "#sub_1.to_csv(\"sub_1.csv\",index=False)"
      ],
      "metadata": {
        "id": "E2Jiyqv_1bj8"
      },
      "execution_count": 29,
      "outputs": []
    },
    {
      "cell_type": "markdown",
      "source": [
        "## 2.Logistic Regression\n",
        "* It is popular supervised learning algorithm used for classification task.\n",
        "* It models probability that a given input belongs to particular class or not.It does use a logistic function also called sigmoid function.\n",
        "which maps any real valued between 0 and 1.\n",
        "* Mathematical Intuition:\n",
        "    `sigma(z)=1 / 1 + e^-z`\n",
        "    z is linear combination of features\n",
        "* Adv:\n",
        "   1. Simple and Interpretable\n",
        "   2. Efficient for binary classification\n",
        "   3. Provide probablities, making it easy to set decision thresholds\n",
        "* DisAdv:\n",
        "   1. Assumes a linear relationship between features and log-odds\n",
        "   2. May not perform well with a complex realtionships"
      ],
      "metadata": {
        "id": "gYfqZ4i81kaW"
      }
    },
    {
      "cell_type": "code",
      "source": [
        "from sklearn.linear_model import LogisticRegression"
      ],
      "metadata": {
        "id": "RpN_o7OX3GGH"
      },
      "execution_count": 30,
      "outputs": []
    },
    {
      "cell_type": "code",
      "source": [
        "model_2=LogisticRegression(random_state=1)\n",
        "my_pipeline_2=Pipeline(steps=[\n",
        "    (\"preprocessor\",preprocessor),\n",
        "    (\"model\",model_2)])\n",
        "my_pipeline_2.fit(X_train,y_train)\n",
        "preds_1=my_pipeline_2.predict(X_valid)\n",
        "result_1=confusion_matrix(y_valid,preds_1)\n",
        "visualise_matrix(result_1,\"Logistic Regression\")"
      ],
      "metadata": {
        "colab": {
          "base_uri": "https://localhost:8080/",
          "height": 636
        },
        "id": "NAQY0Grs4074",
        "outputId": "1ccf3dab-053c-4059-d4d7-026db823ce12"
      },
      "execution_count": 31,
      "outputs": [
        {
          "output_type": "stream",
          "name": "stderr",
          "text": [
            "/usr/local/lib/python3.10/dist-packages/sklearn/linear_model/_logistic.py:458: ConvergenceWarning: lbfgs failed to converge (status=1):\n",
            "STOP: TOTAL NO. of ITERATIONS REACHED LIMIT.\n",
            "\n",
            "Increase the number of iterations (max_iter) or scale the data as shown in:\n",
            "    https://scikit-learn.org/stable/modules/preprocessing.html\n",
            "Please also refer to the documentation for alternative solver options:\n",
            "    https://scikit-learn.org/stable/modules/linear_model.html#logistic-regression\n",
            "  n_iter_i = _check_optimize_result(\n"
          ]
        },
        {
          "output_type": "display_data",
          "data": {
            "text/plain": [
              "<Figure size 640x480 with 2 Axes>"
            ],
            "image/png": "[encoded data removed]"
          },
          "metadata": {}
        }
      ]
    },
    {
      "cell_type": "code",
      "source": [
        "from sklearn.metrics import precision_score"
      ],
      "metadata": {
        "id": "8UUVp7_a5g28"
      },
      "execution_count": 32,
      "outputs": []
    },
    {
      "cell_type": "code",
      "source": [
        "precision_score(y_valid,preds_1)"
      ],
      "metadata": {
        "colab": {
          "base_uri": "https://localhost:8080/"
        },
        "id": "CNX7yWtf54Wn",
        "outputId": "8ff1324f-e6f6-4d89-f154-f75ec892c2f8"
      },
      "execution_count": 33,
      "outputs": [
        {
          "output_type": "execute_result",
          "data": {
            "text/plain": [
              "0.7741935483870968"
            ]
          },
          "metadata": {},
          "execution_count": 33
        }
      ]
    },
    {
      "cell_type": "code",
      "source": [
        "submission_2=my_pipeline_2.predict(test)\n",
        "data_1={\"PassengerId\":id,\"Survived\":submission_2}\n",
        "sub_2=pd.DataFrame(data_1)\n",
        "sub_2.to_csv(\"sub_2.csv\",index=False)"
      ],
      "metadata": {
        "id": "oXRo9Sse6C3v"
      },
      "execution_count": 34,
      "outputs": []
    },
    {
      "cell_type": "markdown",
      "source": [
        "## 3.CatBoost\n",
        "\n"
      ],
      "metadata": {
        "id": "VNxxmC0e6Y2K"
      }
    },
    {
      "cell_type": "code",
      "source": [
        "!pip install catboost"
      ],
      "metadata": {
        "colab": {
          "base_uri": "https://localhost:8080/"
        },
        "id": "jDgmV2zH76fl",
        "outputId": "e3653fb1-cb5f-4eb1-e5cf-eaec7e93078c"
      },
      "execution_count": 35,
      "outputs": [
        {
          "output_type": "stream",
          "name": "stdout",
          "text": [
            "Collecting catboost\n",
            "  Downloading catboost-1.2.2-cp310-cp310-manylinux2014_x86_64.whl (98.7 MB)\n",
            "\u001b[2K     \u001b[90m━━━━━━━━━━━━━━━━━━━━━━━━━━━━━━━━━━━━━━━━\u001b[0m \u001b[32m98.7/98.7 MB\u001b[0m \u001b[31m4.6 MB/s\u001b[0m eta \u001b[36m0:00:00\u001b[0m\n",
            "\u001b[?25hRequirement already satisfied: graphviz in /usr/local/lib/python3.10/dist-packages (from catboost) (0.20.1)\n",
            "Requirement already satisfied: matplotlib in /usr/local/lib/python3.10/dist-packages (from catboost) (3.7.1)\n",
            "Requirement already satisfied: numpy>=1.16.0 in /usr/local/lib/python3.10/dist-packages (from catboost) (1.23.5)\n",
            "Requirement already satisfied: pandas>=0.24 in /usr/local/lib/python3.10/dist-packages (from catboost) (1.5.3)\n",
            "Requirement already satisfied: scipy in /usr/local/lib/python3.10/dist-packages (from catboost) (1.11.4)\n",
            "Requirement already satisfied: plotly in /usr/local/lib/python3.10/dist-packages (from catboost) (5.15.0)\n",
            "Requirement already satisfied: six in /usr/local/lib/python3.10/dist-packages (from catboost) (1.16.0)\n",
            "Requirement already satisfied: python-dateutil>=2.8.1 in /usr/local/lib/python3.10/dist-packages (from pandas>=0.24->catboost) (2.8.2)\n",
            "Requirement already satisfied: pytz>=2020.1 in /usr/local/lib/python3.10/dist-packages (from pandas>=0.24->catboost) (2023.3.post1)\n",
            "Requirement already satisfied: contourpy>=1.0.1 in /usr/local/lib/python3.10/dist-packages (from matplotlib->catboost) (1.2.0)\n",
            "Requirement already satisfied: cycler>=0.10 in /usr/local/lib/python3.10/dist-packages (from matplotlib->catboost) (0.12.1)\n",
            "Requirement already satisfied: fonttools>=4.22.0 in /usr/local/lib/python3.10/dist-packages (from matplotlib->catboost) (4.47.2)\n",
            "Requirement already satisfied: kiwisolver>=1.0.1 in /usr/local/lib/python3.10/dist-packages (from matplotlib->catboost) (1.4.5)\n",
            "Requirement already satisfied: packaging>=20.0 in /usr/local/lib/python3.10/dist-packages (from matplotlib->catboost) (23.2)\n",
            "Requirement already satisfied: pillow>=6.2.0 in /usr/local/lib/python3.10/dist-packages (from matplotlib->catboost) (9.4.0)\n",
            "Requirement already satisfied: pyparsing>=2.3.1 in /usr/local/lib/python3.10/dist-packages (from matplotlib->catboost) (3.1.1)\n",
            "Requirement already satisfied: tenacity>=6.2.0 in /usr/local/lib/python3.10/dist-packages (from plotly->catboost) (8.2.3)\n",
            "Installing collected packages: catboost\n",
            "Successfully installed catboost-1.2.2\n"
          ]
        }
      ]
    },
    {
      "cell_type": "code",
      "source": [
        "from catboost import CatBoostClassifier\n",
        "\n",
        "model_3=CatBoostClassifier(random_state=1,\n",
        "                           verbose=False,\n",
        "                           iterations=100,\n",
        "                           learning_rate=0.01,\n",
        "                           depth=9,\n",
        "                           custom_metric=['Logloss',\"AUC\"]) #height of decision tree\n",
        "\n",
        "my_pipeline_3=Pipeline(steps=[\n",
        "     (\"preprocessor\",preprocessor),\n",
        "     (\"model\",model_3)])"
      ],
      "metadata": {
        "id": "Md82aD_HACN5"
      },
      "execution_count": 36,
      "outputs": []
    },
    {
      "cell_type": "code",
      "source": [
        "my_pipeline_3.fit(X_train,y_train)\n",
        "preds_3=my_pipeline_3.predict(X_valid)\n",
        "result_3=confusion_matrix(y_valid,preds_3)\n",
        "visualise_matrix(result_3,\"CatBoost\")"
      ],
      "metadata": {
        "colab": {
          "base_uri": "https://localhost:8080/",
          "height": 477
        },
        "id": "Z1bcN3zrAzmE",
        "outputId": "ffeb5990-40f0-4584-cf6f-567ebbc7199b"
      },
      "execution_count": 37,
      "outputs": [
        {
          "output_type": "display_data",
          "data": {
            "text/plain": [
              "<Figure size 640x480 with 2 Axes>"
            ],
            "image/png": "[encoded data removed]"
          },
          "metadata": {}
        }
      ]
    },
    {
      "cell_type": "code",
      "source": [
        "precision_score(y_valid,preds_3)"
      ],
      "metadata": {
        "colab": {
          "base_uri": "https://localhost:8080/"
        },
        "id": "ZY2wz66fBOHN",
        "outputId": "e0d9953a-02e2-4913-c48f-c9a532304e5f"
      },
      "execution_count": 38,
      "outputs": [
        {
          "output_type": "execute_result",
          "data": {
            "text/plain": [
              "0.851063829787234"
            ]
          },
          "metadata": {},
          "execution_count": 38
        }
      ]
    },
    {
      "cell_type": "code",
      "source": [
        "submission_3=my_pipeline_3.predict(test)\n"
      ],
      "metadata": {
        "id": "VqXZVq7XBm-N"
      },
      "execution_count": 39,
      "outputs": []
    },
    {
      "cell_type": "code",
      "source": [
        "data={\"PassengerId\":id,\n",
        "      \"Survived\":submission_3}"
      ],
      "metadata": {
        "id": "39eEzD2xFc90"
      },
      "execution_count": 40,
      "outputs": []
    },
    {
      "cell_type": "code",
      "source": [
        "sub_3=pd.DataFrame(data)\n",
        "sub_3.to_csv(\"sub_3.csv\",index=False)"
      ],
      "metadata": {
        "id": "ywPhVGjtFl5k"
      },
      "execution_count": 41,
      "outputs": []
    },
    {
      "cell_type": "markdown",
      "source": [
        "## 4.Randoom Forest Classifier\n",
        "* It is ensemble learning model.\n",
        "* Ensemble learning invovles combining of predictions of multiple models to improve overall performance and accuracy.In the case of random forest, it combines the power of multiple decision trees to make more robust predictions\n",
        "* Think of detective trying to decide will it rain? They ask questions like is it cloudy or is the wind strong and make a predictions based on the answers.\n",
        "* Now picture a whole team of detectives.Each one is a bit different - they ask different questions and have different experiences. They all make thier predictions independently.\n",
        "* Here is intresing part each detective only sees random part of the info and ask random ques. this randomness makes team more diverse like having detectives with different speciality.\n",
        "* When its time to make a predictions for tomorrows weather each detective votes based on thier insights.The final decision is what most detectives agree on.\n"
      ],
      "metadata": {
        "id": "9AIhZyixFyfC"
      }
    },
    {
      "cell_type": "code",
      "source": [
        "from sklearn.ensemble import RandomForestClassifier\n",
        "\n",
        "model_4=RandomForestClassifier(random_state=1)\n",
        "\n",
        "my_pipeline_4=Pipeline(steps=[\n",
        "    (\"prepropessor\",preprocessor),\n",
        "    (\"model\",model_4)])\n",
        "\n",
        "my_pipeline_4.fit(X_train,y_train)\n",
        "preds_4=my_pipeline_4.predict(X_valid)\n",
        "result_4=confusion_matrix(y_valid,preds_4)\n",
        "visualise_matrix(result_4,\"Random Forest Classifier\")"
      ],
      "metadata": {
        "colab": {
          "base_uri": "https://localhost:8080/",
          "height": 477
        },
        "id": "_eJ70MLogFwI",
        "outputId": "c7a1f766-5ebe-4298-81b1-4ec9c25416c0"
      },
      "execution_count": 44,
      "outputs": [
        {
          "output_type": "display_data",
          "data": {
            "text/plain": [
              "<Figure size 640x480 with 2 Axes>"
            ],
            "image/png": "[encoded data removed]"
          },
          "metadata": {}
        }
      ]
    },
    {
      "cell_type": "code",
      "source": [
        "precision_score(y_valid,preds_4)"
      ],
      "metadata": {
        "colab": {
          "base_uri": "https://localhost:8080/"
        },
        "id": "GCO3ZWGLitTT",
        "outputId": "b48afe16-645c-4a73-d073-d465232f4b66"
      },
      "execution_count": 45,
      "outputs": [
        {
          "output_type": "execute_result",
          "data": {
            "text/plain": [
              "0.8035714285714286"
            ]
          },
          "metadata": {},
          "execution_count": 45
        }
      ]
    },
    {
      "cell_type": "markdown",
      "source": [
        "## 5.Navie Bayes\n",
        "* It is supervised learning classification algorithm which basically gives a binary or multi-class outputs.\n",
        "* It is based on Bayes theorum.\n",
        "* Bayes Theorum:\n",
        "\n",
        "   ### `P(A|B)=P(B|A)*P(B)/P(A)`\n",
        "\n",
        " where\n",
        "     P(A|B)=Probability of occuring B when A has already occured\n",
        "     \n",
        "     P(B|A)=Probability of occuring A if B has occured\n",
        "     \n",
        "     P(A)=Probability of occuring A\n",
        "     \n",
        "     P(B)=Probability of occuring B"
      ],
      "metadata": {
        "id": "yVpnU19YjBsJ"
      }
    },
    {
      "cell_type": "markdown",
      "source": [
        "### 1.GaussianNB\n",
        "It is Naive Bayes algorithm which follows a Gaussian distribution.It is part of the bayes family of algorithms which are used for classifications task.\n"
      ],
      "metadata": {
        "id": "8cTdkRqtnGMF"
      }
    },
    {
      "cell_type": "code",
      "source": [
        "from sklearn.naive_bayes import GaussianNB\n",
        "\n",
        "model_5=GaussianNB()\n",
        "my_pipeline_5=Pipeline(steps=[\n",
        "    (\"preprocessor\",preprocessor),\n",
        "    (\"model\",model_5)])\n",
        "\n",
        "my_pipeline_5.fit(X_train,y_train)\n",
        "preds_5=my_pipeline_5.predict(X_valid)\n",
        "result_5=confusion_matrix(y_valid,preds_5)\n",
        "visualise_matrix(result_5,\"Naive Bayes (GaussianNB)\")"
      ],
      "metadata": {
        "colab": {
          "base_uri": "https://localhost:8080/",
          "height": 477
        },
        "id": "xmQe-jogjGmv",
        "outputId": "765a8cac-3cd0-4c4d-b2cd-f97b527473bc"
      },
      "execution_count": 47,
      "outputs": [
        {
          "output_type": "display_data",
          "data": {
            "text/plain": [
              "<Figure size 640x480 with 2 Axes>"
            ],
            "image/png": "[encoded data removed]"
          },
          "metadata": {}
        }
      ]
    },
    {
      "cell_type": "code",
      "source": [
        "precision_score(y_valid,preds_5)"
      ],
      "metadata": {
        "colab": {
          "base_uri": "https://localhost:8080/"
        },
        "id": "16NsgFsWkzpP",
        "outputId": "3ceb7399-9da8-44a4-90cb-7bfbd20c3789"
      },
      "execution_count": 48,
      "outputs": [
        {
          "output_type": "execute_result",
          "data": {
            "text/plain": [
              "0.7246376811594203"
            ]
          },
          "metadata": {},
          "execution_count": 48
        }
      ]
    },
    {
      "cell_type": "markdown",
      "source": [
        "**Note:**\n",
        "* **If your data is Numeric**: if your features are continuos and follow a guassian distribution.\n",
        "* **If your data is Textual**:If your features are based on word counts or frequencies in text data,\n",
        "multinomial Naive Bayes is a good choice.\n",
        "* **If your data is Binary**: If your features are binary(0 or 1) and represent presence or absence, bernoullis naive bayes might be suitable."
      ],
      "metadata": {
        "id": "l320uLezm0_E"
      }
    },
    {
      "cell_type": "markdown",
      "source": [
        "## 6.XGBoost **bold text**\n",
        "* It is one of the powerful algorithm and efficient machine learning algorihtm that belongs to the ensemble learning methods.\n",
        "* It is popular structue and tabler data.\n",
        "* It is form of gradient boosting which means it focues on minimizing errors residuals in predictions It build trees sequentially with each new tree to fix the mistakes made by the existing ensemble\n",
        "* Xtreme refers to extreme speed and performance.\n",
        "Its designed to be highly efficient and can handle large datasets with many features.\n",
        "\n",
        "\n"
      ],
      "metadata": {
        "id": "KKIesaWBnoTl"
      }
    },
    {
      "cell_type": "code",
      "source": [
        "from xgboost import XGBClassifier\n",
        "\n",
        "model_6=XGBClassifier(random_state=1,\n",
        "                      n_estimators=300,\n",
        "                      max_depth=10,\n",
        "                      learning_rate=0.1)\n",
        "\n",
        "my_pipeline_6=Pipeline(steps=[\n",
        "    (\"preprocessor\",preprocessor),\n",
        "    (\"model\",model_6)])\n",
        "my_pipeline_6.fit(X_train,y_train)\n",
        "preds_6=my_pipeline_6.predict(X_valid)\n",
        "result_6=confusion_matrix(y_valid,preds_6)\n",
        "visualise_matrix(result_6,\"XGBoostClassifier\")"
      ],
      "metadata": {
        "colab": {
          "base_uri": "https://localhost:8080/",
          "height": 477
        },
        "id": "GBliFtBZpOjL",
        "outputId": "d3c5eb1e-0e2b-4ff4-8cd7-f5919004c162"
      },
      "execution_count": 73,
      "outputs": [
        {
          "output_type": "display_data",
          "data": {
            "text/plain": [
              "<Figure size 640x480 with 2 Axes>"
            ],
            "image/png": "[encoded data removed]"
          },
          "metadata": {}
        }
      ]
    },
    {
      "cell_type": "code",
      "source": [
        "\n",
        "precision_score(y_valid,preds_6)"
      ],
      "metadata": {
        "colab": {
          "base_uri": "https://localhost:8080/"
        },
        "id": "Snj0BOVirxuv",
        "outputId": "62e9c28a-526e-46ad-e7da-f7ef7e4689b3"
      },
      "execution_count": 74,
      "outputs": [
        {
          "output_type": "execute_result",
          "data": {
            "text/plain": [
              "0.8"
            ]
          },
          "metadata": {},
          "execution_count": 74
        }
      ]
    },
    {
      "cell_type": "markdown",
      "source": [
        "# 5.Normalisation and Standardisation\n",
        "* Both above are feature scaling methods which squeeze the features wieghts into a range of numerical values.\n",
        "* It makes your data have mean of 0 and standard deviation of 1.\n"
      ],
      "metadata": {
        "id": "mY-BeA7Ur6mz"
      }
    },
    {
      "cell_type": "code",
      "source": [
        "from sklearn.preprocessing import StandardScaler\n",
        "scaler=StandardScaler(with_mean=True,with_std=True)"
      ],
      "metadata": {
        "id": "x09xS_2XsxNf"
      },
      "execution_count": 78,
      "outputs": []
    },
    {
      "cell_type": "code",
      "source": [
        "from catboost import CatBoostClassifier\n",
        "\n",
        "model_7=CatBoostClassifier(random_state=1,\n",
        "                           verbose=False,\n",
        "                           iterations=100,\n",
        "                           learning_rate=0.01,\n",
        "                           depth=9,\n",
        "                           custom_metric=['Logloss',\"AUC\"]) #height of decision tree\n",
        "\n",
        "my_pipeline_7=Pipeline([\n",
        "     (\"preprocessor\",preprocessor),\n",
        "     (\"scaler\",scaler),\n",
        "     (\"model\",model_3)])\n",
        "\n",
        "my_pipeline_7.fit(X_train,y_train)\n",
        "preds_7=my_pipeline_7.predict(X_valid)\n",
        "result_7=confusion_matrix(y_valid,preds_7)\n",
        "visualise_matrix(result_7,\"Standardisation of dataset(catboost)\")"
      ],
      "metadata": {
        "colab": {
          "base_uri": "https://localhost:8080/",
          "height": 477
        },
        "id": "Lk781pIXtxTZ",
        "outputId": "6680e5cb-78e3-4454-afa2-4e3eaaa0820d"
      },
      "execution_count": 85,
      "outputs": [
        {
          "output_type": "display_data",
          "data": {
            "text/plain": [
              "<Figure size 640x480 with 2 Axes>"
            ],
            "image/png": "[encoded data removed]"
          },
          "metadata": {}
        }
      ]
    },
    {
      "cell_type": "code",
      "source": [
        "precision_score(y_valid,preds_7)"
      ],
      "metadata": {
        "colab": {
          "base_uri": "https://localhost:8080/"
        },
        "id": "7eeIaCMRuD6n",
        "outputId": "957b0e73-d41c-4dd9-d175-ad25f9f08374"
      },
      "execution_count": 87,
      "outputs": [
        {
          "output_type": "execute_result",
          "data": {
            "text/plain": [
              "0.851063829787234"
            ]
          },
          "metadata": {},
          "execution_count": 87
        }
      ]
    },
    {
      "cell_type": "code",
      "source": [
        "submission_7=my_pipeline_7.predict(test)\n",
        "data_7={\"PassengerId\":id,\n",
        "        \"Survived\":submission_7}\n",
        "sub_7=pd.DataFrame(data_7)\n",
        "sub_7.to_csv(\"sub_7.csv\",index=False)"
      ],
      "metadata": {
        "id": "pn0d_N8fvzw9"
      },
      "execution_count": 88,
      "outputs": []
    },
    {
      "cell_type": "code",
      "source": [],
      "metadata": {
        "id": "iRprWB8TwT92"
      },
      "execution_count": null,
      "outputs": []
    }
  ]
}